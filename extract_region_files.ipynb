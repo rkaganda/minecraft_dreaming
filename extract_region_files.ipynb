{
 "cells": [
  {
   "cell_type": "code",
   "execution_count": null,
   "id": "daca2bf7-2d33-4373-b56d-26c383c6c66f",
   "metadata": {},
   "outputs": [],
   "source": [
    "import subprocess"
   ]
  },
  {
   "cell_type": "code",
   "execution_count": null,
   "id": "a837fd98-8cbd-4882-b9a3-5a2293ffa1bb",
   "metadata": {},
   "outputs": [],
   "source": [
    "def load_chunk_file(r, x, z, m):\n",
    "    # copy the file\n",
    "    command = f'docker cp {container_id}:{path_in_container}/r.{x}.{z}.mca {path_to_save}/r.{x}.{z}.mca'\n",
    "    print(command)\n",
    "\n",
    "    # Execute the command\n",
    "    process = subprocess.Popen(command, shell=True, stdout=subprocess.PIPE, stderr=subprocess.PIPE)\n",
    "    out, err = process.communicate()\n",
    "\n",
    "    # Print the output\n",
    "    if process.returncode == 0:\n",
    "        print(\"Exported file.\")\n",
    "    else:\n",
    "        print(\"Error:\")\n",
    "        print(err.decode())\n",
    "\n",
    "\n",
    "def list_chunk_files():\n",
    "    # copy the file\n",
    "    command = f'docker exec {container_id} ls {path_in_container}/'\n",
    "    print(command)\n",
    "\n",
    "    # Execute the command\n",
    "    process = subprocess.Popen(command, shell=True, stdout=subprocess.PIPE, stderr=subprocess.PIPE)\n",
    "    out, err = process.communicate()\n",
    "\n",
    "    files = []\n",
    "\n",
    "    # Print the output\n",
    "    if process.returncode == 0:\n",
    "        print(\"Files found:\")\n",
    "        for lin in out.decode().split('\\n'):\n",
    "            coordinates = lin.split('.')\n",
    "            if 'mca' in coordinates:\n",
    "                print(lin)\n",
    "                files.append({'x': coordinates[1], 'z': coordinates[2]})\n",
    "\n",
    "    else:\n",
    "        print(\"Error:\")\n",
    "        print(err.decode())\n",
    "\n",
    "    return files\n"
   ]
  },
  {
   "cell_type": "code",
   "execution_count": null,
   "id": "2edf214e-13bc-4c8e-8fc4-fde01440b9d8",
   "metadata": {},
   "outputs": [],
   "source": [
    "# server container id\n",
    "container_id = '48153eb5e33e020ef3bc8235d4f552ffa7a12f9dea776348cc6ce2c9e3845060'\n",
    "# path to regions\n",
    "path_in_container = '/data/world/region'\n",
    "path_to_save = 'C:/Users/rkaganda/PycharmProjects/minecraft_dreamer/data/region'"
   ]
  },
  {
   "cell_type": "code",
   "execution_count": null,
   "id": "1aa07e27-838c-44f6-a3f9-aea128edbe92",
   "metadata": {},
   "outputs": [],
   "source": []
  }
 ],
 "metadata": {
  "kernelspec": {
   "display_name": "Python 3 (ipykernel)",
   "language": "python",
   "name": "python3"
  },
  "language_info": {
   "codemirror_mode": {
    "name": "ipython",
    "version": 3
   },
   "file_extension": ".py",
   "mimetype": "text/x-python",
   "name": "python",
   "nbconvert_exporter": "python",
   "pygments_lexer": "ipython3",
   "version": "3.11.2"
  }
 },
 "nbformat": 4,
 "nbformat_minor": 5
}
