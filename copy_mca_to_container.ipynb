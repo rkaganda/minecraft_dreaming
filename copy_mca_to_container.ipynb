{
 "cells": [
  {
   "cell_type": "code",
   "execution_count": 1,
   "id": "974b8773-12cc-4193-a140-ca860fac225e",
   "metadata": {},
   "outputs": [],
   "source": [
    "import subprocess"
   ]
  },
  {
   "cell_type": "code",
   "execution_count": 2,
   "id": "6422a32f-5ac2-4ce2-b238-fa6496afcf49",
   "metadata": {},
   "outputs": [],
   "source": [
    "def copy_in_file(source_mca_path, dest_mca_path):\n",
    "    # backup the file\n",
    "    command = f'docker exec {container_id} cp {path_in_container}/{dest_mca_path} {path_in_container}/{dest_mca_path}_bak'\n",
    "    print(command)\n",
    "\n",
    "    # Execute the command\n",
    "    process = subprocess.Popen(command, shell=True, stdout=subprocess.PIPE, stderr=subprocess.PIPE)\n",
    "    out, err = process.communicate()\n",
    "\n",
    "    # Print the output\n",
    "    if process.returncode == 0:\n",
    "        print(\"OK\")\n",
    "    else:\n",
    "        print(\"Error:\")\n",
    "        print(err.decode())\n",
    "\n",
    "    # copy the file\n",
    "    command = f'docker cp {path_to_save}/{source_mca_path} {container_id}:{path_in_container}/{dest_mca_path}'\n",
    "    print(command)\n",
    "\n",
    "    # Execute the command\n",
    "    process = subprocess.Popen(command, shell=True, stdout=subprocess.PIPE, stderr=subprocess.PIPE)\n",
    "    out, err = process.communicate()\n",
    "\n",
    "    # Print the output\n",
    "    if process.returncode == 0:\n",
    "        print(\"OK\")\n",
    "    else:\n",
    "        print(\"Error:\")\n",
    "        print(err.decode())\n",
    "\n",
    "    # copy the file\n",
    "    command = f'docker exec {container_id} chmod 664 {path_in_container}/{dest_mca_path}'\n",
    "    print(command)\n",
    "\n",
    "    # Execute the command\n",
    "    process = subprocess.Popen(command, shell=True, stdout=subprocess.PIPE, stderr=subprocess.PIPE)\n",
    "    out, err = process.communicate()\n",
    "\n",
    "    # Print the output\n",
    "    if process.returncode == 0:\n",
    "        print(\"OK\")\n",
    "    else:\n",
    "        print(\"Error:\")\n",
    "        print(err.decode())\n",
    "\n",
    "    # copy the file\n",
    "    command = f'docker exec {container_id} chown minecraft:minecraft {path_in_container}/{dest_mca_path}'\n",
    "    print(command)\n",
    "\n",
    "    # Execute the command\n",
    "    process = subprocess.Popen(command, shell=True, stdout=subprocess.PIPE, stderr=subprocess.PIPE)\n",
    "    out, err = process.communicate()\n",
    "\n",
    "    # Print the output\n",
    "    if process.returncode == 0:\n",
    "        print(\"OK\")\n",
    "    else:\n",
    "        print(\"Error:\")\n",
    "        print(err.decode())"
   ]
  },
  {
   "cell_type": "code",
   "execution_count": 3,
   "id": "be5ba59b-493a-40c3-ab72-771a9b65213d",
   "metadata": {},
   "outputs": [
    {
     "name": "stdout",
     "output_type": "stream",
     "text": [
      "docker exec 48153eb5e33e020ef3bc8235d4f552ffa7a12f9dea776348cc6ce2c9e3845060 cp /data/world/region/r.-1.-1.mca /data/world/region/r.-1.-1.mca_bak\n",
      "Error:\n",
      "Error response from daemon: Container 48153eb5e33e020ef3bc8235d4f552ffa7a12f9dea776348cc6ce2c9e3845060 is not running\n",
      "\n",
      "docker cp C:/Users/rkaganda/PycharmProjects/minecraft_dreamer/data/region/r-Copy1.-1.-1.mca 48153eb5e33e020ef3bc8235d4f552ffa7a12f9dea776348cc6ce2c9e3845060:/data/world/region/r.-1.-1.mca\n",
      "OK\n",
      "docker exec 48153eb5e33e020ef3bc8235d4f552ffa7a12f9dea776348cc6ce2c9e3845060 chmod 664 /data/world/region/r.-1.-1.mca\n",
      "Error:\n",
      "Error response from daemon: Container 48153eb5e33e020ef3bc8235d4f552ffa7a12f9dea776348cc6ce2c9e3845060 is not running\n",
      "\n",
      "docker exec 48153eb5e33e020ef3bc8235d4f552ffa7a12f9dea776348cc6ce2c9e3845060 chown minecraft:minecraft /data/world/region/r.-1.-1.mca\n",
      "Error:\n",
      "Error response from daemon: Container 48153eb5e33e020ef3bc8235d4f552ffa7a12f9dea776348cc6ce2c9e3845060 is not running\n",
      "\n"
     ]
    }
   ],
   "source": [
    "container_id = '48153eb5e33e020ef3bc8235d4f552ffa7a12f9dea776348cc6ce2c9e3845060'\n",
    "\n",
    "path_in_container = '/data/world/region'\n",
    "path_to_save = 'C:/Users/rkaganda/PycharmProjects/minecraft_dreamer/data/region'\n",
    "\n",
    "copy_in_file(\"r-Copy1.-1.-1.mca\", \"r.-1.-1.mca\")"
   ]
  }
 ],
 "metadata": {
  "kernelspec": {
   "display_name": "Python 3 (ipykernel)",
   "language": "python",
   "name": "python3"
  },
  "language_info": {
   "codemirror_mode": {
    "name": "ipython",
    "version": 3
   },
   "file_extension": ".py",
   "mimetype": "text/x-python",
   "name": "python",
   "nbconvert_exporter": "python",
   "pygments_lexer": "ipython3",
   "version": "3.11.2"
  }
 },
 "nbformat": 4,
 "nbformat_minor": 5
}
