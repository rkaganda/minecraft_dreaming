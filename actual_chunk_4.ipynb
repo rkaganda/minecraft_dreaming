{
 "cells": [
  {
   "cell_type": "code",
   "execution_count": 1,
   "id": "a5fc83dd-4351-46ca-961f-72e68c224266",
   "metadata": {},
   "outputs": [],
   "source": [
    "import numpy as np\n",
    "import itertools\n",
    "import sys\n",
    "import numpy\n",
    "import torch\n",
    "import torch.nn as nn\n",
    "import torch.optim as optim\n",
    "from torch.utils.data import Dataset, DataLoader\n",
    "import matplotlib.pyplot as plt\n",
    "from sklearn.preprocessing import MinMaxScaler\n",
    "import tqdm\n",
    "\n",
    "numpy.set_printoptions(threshold=sys.maxsize)"
   ]
  },
  {
   "cell_type": "code",
   "execution_count": 2,
   "id": "df3edde0-1918-41e5-b24d-dc2331b4bad8",
   "metadata": {},
   "outputs": [],
   "source": [
    "chunk_file = \"sub_chunk.npy\"\n",
    "normalize_data = True\n",
    "use_dummy = False\n",
    "torch.manual_seed(0)"
   ]
  },
  {
   "cell_type": "code",
   "execution_count": 3,
   "id": "60c95017-8885-43bb-a0a2-8b1f04548583",
   "metadata": {},
   "outputs": [],
   "source": [
    "the_chunk = np.load(chunk_file)"
   ]
  },
  {
   "cell_type": "code",
   "execution_count": 4,
   "id": "f45aadc6-fe84-484a-aff2-074508f77c9f",
   "metadata": {},
   "outputs": [],
   "source": [
    "if use_dummy:\n",
    "    # Create dummy chunk\n",
    "    total_elements = 4 * 4 * 4\n",
    "    \n",
    "    # Dummy chunk of consecutive ints\n",
    "    consecutive_integers = np.arange(total_elements)\n",
    "    # consecutive_integers = np.zeros(total_elements)\n",
    "    \n",
    "    # Reshape the 1D array\n",
    "    the_chunk = consecutive_integers.reshape((4, 4, 4))"
   ]
  },
  {
   "cell_type": "code",
   "execution_count": 5,
   "id": "f308ac45-ba0b-41a5-94bc-a412e6321a9d",
   "metadata": {},
   "outputs": [],
   "source": [
    "# Normalize the chunk data\n",
    "if normalize_data:\n",
    "    # Save original shape\n",
    "    original_shape = the_chunk.shape\n",
    "    \n",
    "    # Reshape to 2D array with one column\n",
    "    reshaped_chunk = the_chunk.reshape(-1, 1)\n",
    "    \n",
    "    # Apply scalar\n",
    "    scaler = MinMaxScaler(feature_range=(0, 1))\n",
    "    scaled_chunk = scaler.fit_transform(reshaped_chunk)\n",
    "    \n",
    "    # Reshape \n",
    "    the_chunk = scaled_chunk.reshape(original_shape)"
   ]
  },
  {
   "cell_type": "code",
   "execution_count": 6,
   "id": "888ca189-98ae-406a-9525-879528f5cce3",
   "metadata": {},
   "outputs": [
    {
     "name": "stdout",
     "output_type": "stream",
     "text": [
      "(16, 16, 16)\n"
     ]
    }
   ],
   "source": [
    "print(the_chunk.shape)\n",
    "sub_chunk_size = 4"
   ]
  },
  {
   "cell_type": "code",
   "execution_count": 7,
   "id": "d37e34ed-de8a-403c-8b11-4430aa35a56c",
   "metadata": {},
   "outputs": [],
   "source": [
    "def get_adjacent_chunks(chunk_coords, chunk_size, total_chunk):\n",
    "    # List to hold adjacent chunks\n",
    "    adjacent_chunks = []\n",
    "\n",
    "    # Select the initial chunk\n",
    "    initial_chunk = total_chunk[\n",
    "        chunk_coords[0]:chunk_coords[0] + chunk_size,\n",
    "        chunk_coords[1]:chunk_coords[1] + chunk_size,\n",
    "        chunk_coords[2]:chunk_coords[2] + chunk_size,\n",
    "    ]\n",
    "    \n",
    "    for dim in range(len(total_chunk.shape)):\n",
    "        for offset in [-1, 1]:\n",
    "            # Check if the adjacent chunk is within bounds\n",
    "            if 0 <= chunk_coords[dim] + offset < total_chunk.shape[dim] - chunk_size + 1:\n",
    "                # Creating the indexer for the adjacent chunk\n",
    "                indexer = [\n",
    "                    slice(chunk_coords[i], chunk_coords[i] + chunk_size) \n",
    "                    for i in range(3)\n",
    "                ]\n",
    "                # Adjust the slice for the specific dimension\n",
    "                indexer[dim] = slice(chunk_coords[dim] + (offset*chunk_size), chunk_coords[dim] + (offset*chunk_size) + chunk_size)\n",
    "                \n",
    "                # Getting the adjacent chunk\n",
    "                adjacent_chunk = total_chunk[tuple(indexer)]\n",
    "                adjacent_chunks.append((rotate_chunk(initial_chunk, dim, offset).flatten(), adjacent_chunk.flatten()))\n",
    "            \n",
    "\n",
    "    return adjacent_chunks\n",
    "                    "
   ]
  },
  {
   "cell_type": "code",
   "execution_count": 8,
   "id": "8cf45127-7bdc-46d1-8210-84922e960c46",
   "metadata": {},
   "outputs": [],
   "source": [
    "def rotate_chunk(chunk, dim, offset):\n",
    "    # Axis mapping for rotation based on the dimension\n",
    "    axis_map = {0: (1, 2), 1: (0, 2), 2: (0, 1)}\n",
    "\n",
    "    # Rotate the chunk\n",
    "    # The number of rotations (k) and whether to flip is determined by the offset\n",
    "    k = 1 if offset == 1 else 3  # 90 degrees clockwise or 270 degrees (90 counter-clockwise)\n",
    "    rotated_chunk = np.rot90(chunk, k=k, axes=axis_map[dim])\n",
    "\n",
    "    # Flip the chunk if the offset is -1\n",
    "    if offset == -1:\n",
    "        flip_axis = axis_map[dim][0]\n",
    "        rotated_chunk = np.flip(rotated_chunk, axis=flip_axis)\n",
    "\n",
    "    return rotated_chunk"
   ]
  },
  {
   "cell_type": "code",
   "execution_count": 9,
   "id": "3f736fda-febe-4720-b265-7023becb3e8f",
   "metadata": {},
   "outputs": [
    {
     "name": "stdout",
     "output_type": "stream",
     "text": [
      "(64,)\n",
      "(64,)\n"
     ]
    }
   ],
   "source": [
    "slices = [range(0, s, sub_chunk_size) for s in the_chunk.shape]\n",
    "chunk_data = []\n",
    "\n",
    "# Iterate over all combinations of slices\n",
    "for indices in itertools.product(*slices): \n",
    "    chunk_data.extend(get_adjacent_chunks(chunk_coords=indices, chunk_size=sub_chunk_size, total_chunk=the_chunk))\n",
    "\n",
    "# shape of in\n",
    "print(chunk_data[0][0].shape)\n",
    "\n",
    "# shape of out\n",
    "print(chunk_data[0][1].shape)"
   ]
  },
  {
   "cell_type": "code",
   "execution_count": 10,
   "id": "112565f3-e17b-490b-b116-b6fe6f761d0c",
   "metadata": {},
   "outputs": [
    {
     "name": "stdout",
     "output_type": "stream",
     "text": [
      "33 non unique out of 288  11.0%\n"
     ]
    }
   ],
   "source": [
    "# Check the datast for uniqueness\n",
    "in_out_dict = {}\n",
    "non_unique_count = 0\n",
    "\n",
    "for in_data, out_data in chunk_data:    \n",
    "    # Converto to hashable tuple\n",
    "    in_data_tuple = tuple(in_data)\n",
    "    out_data_tuple = tuple(out_data)\n",
    "\n",
    "    # If the input is already mapped\n",
    "    if in_data_tuple in in_out_dict:\n",
    "        if out_data_tuple != in_out_dict[in_data_tuple]:\n",
    "            non_unique_count+=1\n",
    "            # print(f\"Non unique output: {in_data_tuple} maps to [{in_out_dict[in_data_tuple]}, {out_data_tuple}]\")\n",
    "    else:\n",
    "        in_out_dict[in_data_tuple] = out_data_tuple\n",
    "\n",
    "print(f\"{non_unique_count} non unique out of {len(chunk_data)}  {100*round(non_unique_count/len(chunk_data),2)}%\")"
   ]
  },
  {
   "cell_type": "code",
   "execution_count": 11,
   "id": "ce126dfa-a7c9-4045-8600-920751238a0a",
   "metadata": {},
   "outputs": [],
   "source": [
    "hidden_layer_size_scale = 1\n",
    "\n",
    "class SimpleFFN(nn.Module):\n",
    "    def __init__(self, input_size):\n",
    "        hidden_layer_size = round(input_size * hidden_layer_size_scale)\n",
    "        print(f\"hidden_layer_size={hidden_layer_size}\")\n",
    "        super(SimpleFFN, self).__init__()\n",
    "        # Define layers\n",
    "        self.fc1 = nn.Linear(input_size, hidden_layer_size) \n",
    "        self.fc2 = nn.Linear(hidden_layer_size, hidden_layer_size)\n",
    "        self.fc3 = nn.Linear(hidden_layer_size, input_size)\n",
    "\n",
    "    def forward(self, x):\n",
    "        x = torch.relu(self.fc1(x))\n",
    "        x = torch.relu(self.fc2(x))\n",
    "        x = self.fc3(x)\n",
    "        return x"
   ]
  },
  {
   "cell_type": "code",
   "execution_count": 12,
   "id": "e595dbe7-a8d9-4f56-9c34-aa9fc9a1b119",
   "metadata": {},
   "outputs": [],
   "source": [
    "class ChunkDataset(Dataset):\n",
    "    def __init__(self, chunk_list):\n",
    "        self.data = [(torch.tensor(inp, dtype=torch.float32), torch.tensor(out, dtype=torch.float32))\n",
    "                     for inp, out in chunk_list]\n",
    "\n",
    "    def __len__(self):\n",
    "        return len(self.data)\n",
    "\n",
    "    def __getitem__(self, idx):\n",
    "        return self.data[idx]"
   ]
  },
  {
   "cell_type": "code",
   "execution_count": 13,
   "id": "0f2464f5-9106-4098-b3c1-dc6aae3e63e0",
   "metadata": {},
   "outputs": [],
   "source": [
    "def aggregate_accuracy(predictions, targets, threshold=1):\n",
    "    # Reshape predictions and targets for the scaler\n",
    "    predictions_np = predictions.detach().numpy().reshape(-1, 1)\n",
    "    targets_np = targets.detach().numpy().reshape(-1, 1)\n",
    "\n",
    "    # Reverse the scaling\n",
    "    original_predictions = torch.tensor(scaler.inverse_transform(predictions_np)).squeeze()\n",
    "    original_targets = torch.tensor(scaler.inverse_transform(targets_np)).squeeze()\n",
    "\n",
    "    # Calculate accuracy with the original values\n",
    "    correct = (abs(torch.round(original_predictions) - original_targets) < threshold).sum()\n",
    "\n",
    "    return correct.item() / predictions.numel()"
   ]
  },
  {
   "cell_type": "code",
   "execution_count": 14,
   "id": "c606d7d2-98f6-441e-a808-45045636e8ec",
   "metadata": {},
   "outputs": [],
   "source": [
    "batch_size = len(chunk_data)\n",
    "learning_rate = 1e-3\n",
    "epochs = 10000\n",
    "\n",
    "# Create the dataset\n",
    "dataset = ChunkDataset(chunk_data)\n",
    "dataloader = DataLoader(dataset, batch_size=batch_size, shuffle=True) \n",
    "\n",
    "# training metrics\n",
    "training_loss = []\n",
    "training_accuracy = []"
   ]
  },
  {
   "cell_type": "code",
   "execution_count": 15,
   "id": "75006ded-943e-415f-a672-8f39c866ffcb",
   "metadata": {},
   "outputs": [
    {
     "name": "stdout",
     "output_type": "stream",
     "text": [
      "hidden_layer_size=64\n"
     ]
    },
    {
     "name": "stderr",
     "output_type": "stream",
     "text": [
      "100%|█████████████████████████████████████████████████████████████████████████████████████████████████████████████████████████████████████████████████████████████████████████████████████████████████████████████████████████████| 10000/10000 [01:37<00:00, 102.23it/s]\n"
     ]
    }
   ],
   "source": [
    "# Determine input size from chunk_data\n",
    "input_size = len(next(iter(chunk_data))[0])\n",
    "\n",
    "model = SimpleFFN(input_size)\n",
    "\n",
    "# Using Mean Squared Error Loss\n",
    "criterion = nn.MSELoss()\n",
    "optimizer = optim.Adam(model.parameters(), lr=learning_rate)\n",
    "\n",
    "# Train epochs\n",
    "for epoch in tqdm.tqdm(range(epochs)):\n",
    "    epoch_loss = 0.0\n",
    "    epoch_acc = 0.0\n",
    "    batch_count = 0\n",
    "\n",
    "    for inputs, targets in dataloader:\n",
    "        batch_count += 1\n",
    "\n",
    "        # Pass data to model\n",
    "        outputs = model(inputs)\n",
    "        loss = criterion(outputs, targets)\n",
    "\n",
    "        # Calculate accuracy\n",
    "        acc = aggregate_accuracy(outputs, targets)\n",
    "        epoch_acc += acc\n",
    "\n",
    "        # Backward and optimize\n",
    "        optimizer.zero_grad()\n",
    "        loss.backward()\n",
    "        optimizer.step()\n",
    "\n",
    "        epoch_loss += loss.item()\n",
    "\n",
    "    average_epoch_loss = epoch_loss / batch_count\n",
    "    average_epoch_acc = epoch_acc / batch_count\n",
    "    training_loss.append(average_epoch_loss)\n",
    "    training_accuracy.append(average_epoch_acc)\n",
    "\n",
    "    # print(f'Epoch [{epoch+1}/{epochs}], Loss: {average_epoch_loss:.4f}, Accuracy: {average_epoch_acc:.4f}')"
   ]
  },
  {
   "cell_type": "code",
   "execution_count": 16,
   "id": "400c236d-b8c6-4f0b-bfff-5f4a55b40fca",
   "metadata": {},
   "outputs": [
    {
     "data": {
      "image/png": "[encoded data removed]",
      "text/plain": [
       "<Figure size 1200x600 with 2 Axes>"
      ]
     },
     "metadata": {},
     "output_type": "display_data"
    }
   ],
   "source": [
    "fig, (ax1, ax2) = plt.subplots(1, 2, figsize=(12, 6))\n",
    "\n",
    "ax1.plot(training_loss, label='Loss', color='blue')\n",
    "ax1.set_xlabel('Epochs')\n",
    "ax1.set_ylabel('Loss')\n",
    "ax1.set_title('Loss During Training')\n",
    "ax1.legend()\n",
    "\n",
    "ax2.plot(training_accuracy, label='Accuracy', color='green')\n",
    "ax2.set_xlabel('Epochs')\n",
    "ax2.set_ylabel('Accuracy')\n",
    "ax2.set_title('Accuracy During Training')\n",
    "ax2.legend()\n",
    "\n",
    "plt.show()"
   ]
  },
  {
   "cell_type": "code",
   "execution_count": 17,
   "id": "b0260477-f84d-453d-8001-b7022c1166cc",
   "metadata": {},
   "outputs": [],
   "source": [
    "# Full test pass\n",
    "# Eval mode\n",
    "model.eval()  \n",
    "\n",
    "row_accuracy_percentages = []\n",
    "\n",
    "# No grad needed\n",
    "with torch.no_grad():  \n",
    "    for inputs, targets in dataloader:\n",
    "        outputs = model(inputs)\n",
    "        \n",
    "        # Reshape and reverse scaling if necessary\n",
    "        predictions_np = outputs.detach().numpy()\n",
    "        targets_np = targets.detach().numpy()\n",
    "        original_predictions = torch.tensor(scaler.inverse_transform(predictions_np))\n",
    "        original_targets = torch.tensor(scaler.inverse_transform(targets_np))\n",
    "    \n",
    "        # Calculate correct % ratio\n",
    "        correct_per_row = (abs(torch.round(original_predictions) - original_targets) < 1).float()\n",
    "    \n",
    "        # Calculate percentage per row\n",
    "        percentage_correct_per_row = correct_per_row.mean(axis=1) * 100\n",
    "        row_accuracy_percentages.extend(percentage_correct_per_row.tolist())"
   ]
  },
  {
   "cell_type": "code",
   "execution_count": 18,
   "id": "2e4a6b45-ed9c-4fe8-a478-7ed7d99c02ec",
   "metadata": {},
   "outputs": [
    {
     "data": {
      "image/png": "[encoded data removed]",
      "text/plain": [
       "<Figure size 1200x300 with 1 Axes>"
      ]
     },
     "metadata": {},
     "output_type": "display_data"
    }
   ],
   "source": [
    "bins_count = 15\n",
    "\n",
    "\n",
    "fig, ax = plt.subplots(figsize=(12, 3))\n",
    "ax.hist(row_accuracy_percentages, bins=bins_count, label='Accuracy', color='blue', edgecolor='black')\n",
    "ax.set_xlim(0, None)\n",
    "ax.set_xlabel('Accuracy (%)')\n",
    "ax.set_ylabel('Count')\n",
    "ax.set_title('Accuracy Distribution')\n",
    "ax.legend()\n",
    "\n",
    "plt.show()"
   ]
  },
  {
   "cell_type": "code",
   "execution_count": null,
   "id": "75f7385f-d04b-4002-a9b8-a937efe7525a",
   "metadata": {},
   "outputs": [],
   "source": []
  }
 ],
 "metadata": {
  "kernelspec": {
   "display_name": "Python 3 (ipykernel)",
   "language": "python",
   "name": "python3"
  },
  "language_info": {
   "codemirror_mode": {
    "name": "ipython",
    "version": 3
   },
   "file_extension": ".py",
   "mimetype": "text/x-python",
   "name": "python",
   "nbconvert_exporter": "python",
   "pygments_lexer": "ipython3",
   "version": "3.11.2"
  }
 },
 "nbformat": 4,
 "nbformat_minor": 5
}
